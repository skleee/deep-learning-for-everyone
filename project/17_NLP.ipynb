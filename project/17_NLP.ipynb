{
  "nbformat": 4,
  "nbformat_minor": 0,
  "metadata": {
    "kernelspec": {
      "name": "python3",
      "display_name": "Python 3"
    },
    "language_info": {
      "codemirror_mode": {
        "name": "ipython",
        "version": 3
      },
      "file_extension": ".py",
      "mimetype": "text/x-python",
      "name": "python",
      "nbconvert_exporter": "python",
      "pygments_lexer": "ipython3",
      "version": "3.7.3"
    },
    "colab": {
      "name": "17_NLP.ipynb",
      "provenance": [],
      "collapsed_sections": []
    },
    "accelerator": "GPU"
  },
  "cells": [
    {
      "cell_type": "code",
      "metadata": {
        "id": "34CSJjAFUr2V",
        "colab_type": "code",
        "outputId": "ee595b8b-e79c-4109-a604-0339cc4e00ad",
        "colab": {
          "base_uri": "https://localhost:8080/",
          "height": 131
        }
      },
      "source": [
        "from google.colab import drive\n",
        "drive.mount('/content/drive')"
      ],
      "execution_count": 1,
      "outputs": [
        {
          "output_type": "stream",
          "text": [
            "Go to this URL in a browser: https://accounts.google.com/o/oauth2/auth?client_id=947318989803-6bn6qk8qdgf4n4g3pfee6491hc0brc4i.apps.googleusercontent.com&redirect_uri=urn%3aietf%3awg%3aoauth%3a2.0%3aoob&response_type=code&scope=email%20https%3a%2f%2fwww.googleapis.com%2fauth%2fdocs.test%20https%3a%2f%2fwww.googleapis.com%2fauth%2fdrive%20https%3a%2f%2fwww.googleapis.com%2fauth%2fdrive.photos.readonly%20https%3a%2f%2fwww.googleapis.com%2fauth%2fpeopleapi.readonly\n",
            "\n",
            "Enter your authorization code:\n",
            "··········\n",
            "Mounted at /content/drive\n"
          ],
          "name": "stdout"
        }
      ]
    },
    {
      "cell_type": "code",
      "metadata": {
        "id": "me0Ma7pTQvFI",
        "colab_type": "code",
        "colab": {
          "base_uri": "https://localhost:8080/",
          "height": 36
        },
        "outputId": "8510fce3-b4f3-46fa-f7ba-ce26f2f309da"
      },
      "source": [
        "# -*- coding: utf-8 -*-\n",
        "\n",
        "import numpy as np\n",
        "import tensorflow as tf\n",
        "from numpy import array\n",
        "\n",
        "from tensorflow.keras.preprocessing.text import Tokenizer\n",
        "from tensorflow.keras.preprocessing.sequence import pad_sequences\n",
        "from tensorflow.keras.models import Sequential\n",
        "from tensorflow.keras.layers import Dense, Flatten, Embedding\n",
        "from keras.utils import to_categorical # one-hot encoding"
      ],
      "execution_count": 2,
      "outputs": [
        {
          "output_type": "stream",
          "text": [
            "Using TensorFlow backend.\n"
          ],
          "name": "stderr"
        }
      ]
    },
    {
      "cell_type": "markdown",
      "metadata": {
        "id": "y-mlLrtKVFxG",
        "colab_type": "text"
      },
      "source": [
        "### Text Tokenization"
      ]
    },
    {
      "cell_type": "code",
      "metadata": {
        "id": "5w1OqxThVAcp",
        "colab_type": "code",
        "outputId": "be0d42d5-c47a-49ec-ec77-7a9d92dd7fd7",
        "colab": {
          "base_uri": "https://localhost:8080/",
          "height": 55
        }
      },
      "source": [
        "# 주어진 문장을 '단어'로 토큰화 하기\n",
        "# 케라스의 텍스트 전처리와 관련한 함수중 text_to_word_sequence 불러옴\n",
        "from tensorflow.keras.preprocessing.text import text_to_word_sequence\n",
        " \n",
        "text = '해보지 않으면 해낼 수 없다.'\n",
        " \n",
        "result = text_to_word_sequence(text)\n",
        "print(\"원문: \", text)\n",
        "print(\"토큰화:\", result)"
      ],
      "execution_count": 3,
      "outputs": [
        {
          "output_type": "stream",
          "text": [
            "원문:  해보지 않으면 해낼 수 없다.\n",
            "토큰화: ['해보지', '않으면', '해낼', '수', '없다']\n"
          ],
          "name": "stdout"
        }
      ]
    },
    {
      "cell_type": "code",
      "metadata": {
        "id": "tMP2zh6dVOjR",
        "colab_type": "code",
        "colab": {
          "base_uri": "https://localhost:8080/",
          "height": 243
        },
        "outputId": "bd760697-dbe1-459f-f3d4-095fd5ce30e4"
      },
      "source": [
        "# 단어 빈도수 세기: 텍스트에서 중요한 역할을 하는 단어를 파악할 수 있다.\n",
        "# Bag-of-words: 같은 단어끼리 따로 가방에 담은 뒤 각 가방에 몇 개의 단어가 들어있는지 세는 기법\n",
        "\n",
        "docs = ['먼저 텍스트의 각 단어를 나누어 토큰화 합니다.',\n",
        "       '텍스트의 단어로 토큰화 해야 딥러닝에서 인식됩니다.',\n",
        "       '토큰화 한 결과는 딥러닝에서 사용 할 수 있습니다.',\n",
        "       ]\n",
        " \n",
        "# 토큰화 함수\n",
        "token = Tokenizer()             \n",
        "token.fit_on_texts(docs)       # 토큰화 함수에 문장 적용\n",
        "  \n",
        "print(\"\\n단어 카운트:\\n\", token.word_counts) # 순서는 랜덤\n",
        "#Tokenizer()의 word_counts 함수는 순서를 기억하는 OrderedDict 클래스를 사용\n",
        "\n",
        "print(\"\\n문장 카운트: \", token.document_count)\n",
        "print(\"\\n각 단어가 몇개의 문장에 포함되어 있는지:\\n\", token.word_docs)\n",
        "print(\"\\n각 단어에 매겨진 인덱스 값:\\n\",  token.word_index)"
      ],
      "execution_count": 4,
      "outputs": [
        {
          "output_type": "stream",
          "text": [
            "\n",
            "단어 카운트:\n",
            " OrderedDict([('먼저', 1), ('텍스트의', 2), ('각', 1), ('단어를', 1), ('나누어', 1), ('토큰화', 3), ('합니다', 1), ('단어로', 1), ('해야', 1), ('딥러닝에서', 2), ('인식됩니다', 1), ('한', 1), ('결과는', 1), ('사용', 1), ('할', 1), ('수', 1), ('있습니다', 1)])\n",
            "\n",
            "문장 카운트:  3\n",
            "\n",
            "각 단어가 몇개의 문장에 포함되어 있는지:\n",
            " defaultdict(<class 'int'>, {'텍스트의': 2, '토큰화': 3, '나누어': 1, '단어를': 1, '먼저': 1, '각': 1, '합니다': 1, '단어로': 1, '인식됩니다': 1, '해야': 1, '딥러닝에서': 2, '할': 1, '결과는': 1, '수': 1, '있습니다': 1, '한': 1, '사용': 1})\n",
            "\n",
            "각 단어에 매겨진 인덱스 값:\n",
            " {'토큰화': 1, '텍스트의': 2, '딥러닝에서': 3, '먼저': 4, '각': 5, '단어를': 6, '나누어': 7, '합니다': 8, '단어로': 9, '해야': 10, '인식됩니다': 11, '한': 12, '결과는': 13, '사용': 14, '할': 15, '수': 16, '있습니다': 17}\n"
          ],
          "name": "stdout"
        }
      ]
    },
    {
      "cell_type": "markdown",
      "metadata": {
        "id": "P6rDWpx825p2",
        "colab_type": "text"
      },
      "source": [
        "### One-hot Encoding\n",
        "\n",
        "- 단순히 단어의 출현 빈도만으로는 해당 단어가 문장의 어디에서 왔는지, 각 단어의 순서는 어땠는지 등의 정보를 얻을 수 없음. \n",
        "- 따라서 단어가 문장의 다른 요소와 어떤 관계를 가지고 있는지 파악하는 방법이 필요함. 이러한 기법 중 원핫인코딩이 가장 기본적인 방법."
      ]
    },
    {
      "cell_type": "code",
      "metadata": {
        "id": "Xmn06h-43bFh",
        "colab_type": "code",
        "colab": {
          "base_uri": "https://localhost:8080/",
          "height": 36
        },
        "outputId": "e0f63a98-1bc8-49cc-9e85-be6e3fbad7b5"
      },
      "source": [
        "text = \"오랫동안 꿈꾸는 이는 그 꿈을 닮아간다\"\n",
        "token = Tokenizer()\n",
        "token.fit_on_texts([text])\n",
        "token.word_index # 우선 Tokenization"
      ],
      "execution_count": 5,
      "outputs": [
        {
          "output_type": "execute_result",
          "data": {
            "text/plain": [
              "{'그': 4, '꿈꾸는': 2, '꿈을': 5, '닮아간다': 6, '오랫동안': 1, '이는': 3}"
            ]
          },
          "metadata": {
            "tags": []
          },
          "execution_count": 5
        }
      ]
    },
    {
      "cell_type": "code",
      "metadata": {
        "id": "SaNdGlWQ3vkI",
        "colab_type": "code",
        "colab": {
          "base_uri": "https://localhost:8080/",
          "height": 36
        },
        "outputId": "963d3c12-d963-41dc-b207-bfe1a00626c5"
      },
      "source": [
        "# 토큰의 인덱스로만 채워진 새로운 배열 만듦\n",
        "x = token.texts_to_sequences([text])\n",
        "x"
      ],
      "execution_count": 6,
      "outputs": [
        {
          "output_type": "execute_result",
          "data": {
            "text/plain": [
              "[[1, 2, 3, 4, 5, 6]]"
            ]
          },
          "metadata": {
            "tags": []
          },
          "execution_count": 6
        }
      ]
    },
    {
      "cell_type": "code",
      "metadata": {
        "id": "-NJkCkbV3_Kx",
        "colab_type": "code",
        "colab": {
          "base_uri": "https://localhost:8080/",
          "height": 129
        },
        "outputId": "1e6bf87e-fecf-46d6-fb3e-2125bf51345c"
      },
      "source": [
        "word_size = len(token.word_index) + 1 # 파이썬 배열은 0부터 시작하므로 맨 앞에 0이 추가되어야 하기 때문에 인덱스 수에 하나 추가\n",
        "x = to_categorical(x, num_classes=word_size)\n",
        "x"
      ],
      "execution_count": 7,
      "outputs": [
        {
          "output_type": "execute_result",
          "data": {
            "text/plain": [
              "array([[[0., 1., 0., 0., 0., 0., 0.],\n",
              "        [0., 0., 1., 0., 0., 0., 0.],\n",
              "        [0., 0., 0., 1., 0., 0., 0.],\n",
              "        [0., 0., 0., 0., 1., 0., 0.],\n",
              "        [0., 0., 0., 0., 0., 1., 0.],\n",
              "        [0., 0., 0., 0., 0., 0., 1.]]], dtype=float32)"
            ]
          },
          "metadata": {
            "tags": []
          },
          "execution_count": 7
        }
      ]
    },
    {
      "cell_type": "markdown",
      "metadata": {
        "id": "P5ngksEZ4z_X",
        "colab_type": "text"
      },
      "source": [
        "### Word Embedding\n",
        "\n",
        "- 원-핫 인코딩을 그대로 사용하면 벡터의 길이가 너무 길어진다는 단점이 있다. 따라서 이러한 공간적 낭비를 해결하기 위해 단어임베딩 기법을 사용한다.\n",
        "\n",
        "- 단어 임베딩은 주어진 배열을 정해진 길이로 압축시킨다. 각 단어 간의 유사도를 계산하기 때문에 단어 임베딩으로 얻은 결과가 밀집된 정보를 가지고 있고 공간의 낭비가 적다. \n",
        "\n",
        "- 단어 간 유사도는 **오차역전파**를 이용해 계산한다. 적절한 크기로 배열을 바꾸어 주기 위해 최적의 유사도를 계산하는 학습 과정을 거친다. 이는 케라스의 Embedding()을 이용한다."
      ]
    },
    {
      "cell_type": "code",
      "metadata": {
        "id": "C4zncHMG42CR",
        "colab_type": "code",
        "colab": {}
      },
      "source": [
        "model = Sequential()\n",
        "model.add(Embedding(16,4)) # 입력될 단어는 16개, 임베딩 후 출력되는 벡터 크기는 4"
      ],
      "execution_count": 0,
      "outputs": []
    },
    {
      "cell_type": "markdown",
      "metadata": {
        "id": "VG7Dsqoi50nr",
        "colab_type": "text"
      },
      "source": [
        "### 실습: 텍스트를 읽고 긍정, 부정 예측하기"
      ]
    },
    {
      "cell_type": "code",
      "metadata": {
        "id": "VztCwnMD2ftG",
        "colab_type": "code",
        "colab": {
          "base_uri": "https://localhost:8080/",
          "height": 112
        },
        "outputId": "d7c33fcf-1b16-4309-beaf-dbee7b5c3219"
      },
      "source": [
        "# 리뷰 자료 지정\n",
        "docs = [\"너무 재밌네요\",\"최고예요\",\"참 잘 만든 영화예요\",\"추천하고 싶은 영화입니다\",\"한번 더 보고싶네요\",\"글쎄요\",\"별로예요\",\"생각보다 지루하네요\",\"연기가 어색해요\",\"재미없어요\"]\n",
        "\n",
        "# 긍정 리뷰는 1, 부정 리뷰는 0으로 클래스 지정\n",
        "classes = array([1,1,1,1,1,0,0,0,0,0])\n",
        "\n",
        "# 토큰화 \n",
        "token = Tokenizer()\n",
        "token.fit_on_texts(docs)\n",
        "print(token.word_index)\n",
        "\n",
        "x = token.texts_to_sequences(docs)\n",
        "print(\"\\n리뷰 텍스트, 토큰화 결과:\\n\",  x)"
      ],
      "execution_count": 9,
      "outputs": [
        {
          "output_type": "stream",
          "text": [
            "{'너무': 1, '재밌네요': 2, '최고예요': 3, '참': 4, '잘': 5, '만든': 6, '영화예요': 7, '추천하고': 8, '싶은': 9, '영화입니다': 10, '한번': 11, '더': 12, '보고싶네요': 13, '글쎄요': 14, '별로예요': 15, '생각보다': 16, '지루하네요': 17, '연기가': 18, '어색해요': 19, '재미없어요': 20}\n",
            "\n",
            "리뷰 텍스트, 토큰화 결과:\n",
            " [[1, 2], [3], [4, 5, 6, 7], [8, 9, 10], [11, 12, 13], [14], [15], [16, 17], [18, 19], [20]]\n"
          ],
          "name": "stdout"
        }
      ]
    },
    {
      "cell_type": "code",
      "metadata": {
        "id": "7vEfwbkH6ELR",
        "colab_type": "code",
        "colab": {
          "base_uri": "https://localhost:8080/",
          "height": 204
        },
        "outputId": "ae907921-bb7e-4d6d-9b09-06f5fbbc5915"
      },
      "source": [
        "# 패딩, 서로 다른 길이의 데이터를 4로 맞추어 줍니다. (각 데이터의 토큰 개수가 다르기 때문에 학습 데이터의 길이를 동일하게 만듦)\n",
        "padded_x = pad_sequences(x, 4)  \n",
        "padded_x"
      ],
      "execution_count": 10,
      "outputs": [
        {
          "output_type": "execute_result",
          "data": {
            "text/plain": [
              "array([[ 0,  0,  1,  2],\n",
              "       [ 0,  0,  0,  3],\n",
              "       [ 4,  5,  6,  7],\n",
              "       [ 0,  8,  9, 10],\n",
              "       [ 0, 11, 12, 13],\n",
              "       [ 0,  0,  0, 14],\n",
              "       [ 0,  0,  0, 15],\n",
              "       [ 0,  0, 16, 17],\n",
              "       [ 0,  0, 18, 19],\n",
              "       [ 0,  0,  0, 20]], dtype=int32)"
            ]
          },
          "metadata": {
            "tags": []
          },
          "execution_count": 10
        }
      ]
    },
    {
      "cell_type": "code",
      "metadata": {
        "id": "x-o72oyC6eQa",
        "colab_type": "code",
        "colab": {
          "base_uri": "https://localhost:8080/",
          "height": 820
        },
        "outputId": "d007132a-aefa-4b71-acdd-9c26ca04b906"
      },
      "source": [
        "#임베딩에 입력될 단어의 수를 지정합니다.\n",
        "word_size = len(token.word_index) +1\n",
        " \n",
        "# 모델 설정\n",
        "model = Sequential()\n",
        "\n",
        "# 임베딩: 총 word_size(word_index에 1 더한 값)개의 단어 집합에서 8개의 결과를 출력함\n",
        "# input_length: 매번 입력될 단어 수는 4개\n",
        "model.add(Embedding(word_size, 8, input_length=4))\n",
        "model.add(Flatten()) # 1차원으로 변형\n",
        "model.add(Dense(1, activation='sigmoid')) # 출력값은 1\n",
        "\n",
        "model.compile(optimizer='adam', loss='binary_crossentropy', metrics=['accuracy'])\n",
        "model.fit(padded_x, classes, epochs=20)\n",
        "print(\"\\n Accuracy: %.4f\" % (model.evaluate(padded_x, classes)[1]))"
      ],
      "execution_count": 11,
      "outputs": [
        {
          "output_type": "stream",
          "text": [
            "Epoch 1/20\n",
            "1/1 [==============================] - 0s 2ms/step - loss: 0.6957 - accuracy: 0.4000\n",
            "Epoch 2/20\n",
            "1/1 [==============================] - 0s 1ms/step - loss: 0.6939 - accuracy: 0.5000\n",
            "Epoch 3/20\n",
            "1/1 [==============================] - 0s 3ms/step - loss: 0.6921 - accuracy: 0.6000\n",
            "Epoch 4/20\n",
            "1/1 [==============================] - 0s 998us/step - loss: 0.6902 - accuracy: 0.7000\n",
            "Epoch 5/20\n",
            "1/1 [==============================] - 0s 999us/step - loss: 0.6884 - accuracy: 0.8000\n",
            "Epoch 6/20\n",
            "1/1 [==============================] - 0s 3ms/step - loss: 0.6866 - accuracy: 0.8000\n",
            "Epoch 7/20\n",
            "1/1 [==============================] - 0s 3ms/step - loss: 0.6848 - accuracy: 0.8000\n",
            "Epoch 8/20\n",
            "1/1 [==============================] - 0s 3ms/step - loss: 0.6830 - accuracy: 0.8000\n",
            "Epoch 9/20\n",
            "1/1 [==============================] - 0s 962us/step - loss: 0.6812 - accuracy: 0.9000\n",
            "Epoch 10/20\n",
            "1/1 [==============================] - 0s 3ms/step - loss: 0.6794 - accuracy: 0.9000\n",
            "Epoch 11/20\n",
            "1/1 [==============================] - 0s 3ms/step - loss: 0.6775 - accuracy: 0.9000\n",
            "Epoch 12/20\n",
            "1/1 [==============================] - 0s 3ms/step - loss: 0.6757 - accuracy: 0.9000\n",
            "Epoch 13/20\n",
            "1/1 [==============================] - 0s 2ms/step - loss: 0.6739 - accuracy: 0.9000\n",
            "Epoch 14/20\n",
            "1/1 [==============================] - 0s 1ms/step - loss: 0.6721 - accuracy: 0.9000\n",
            "Epoch 15/20\n",
            "1/1 [==============================] - 0s 896us/step - loss: 0.6702 - accuracy: 0.9000\n",
            "Epoch 16/20\n",
            "1/1 [==============================] - 0s 1ms/step - loss: 0.6684 - accuracy: 0.9000\n",
            "Epoch 17/20\n",
            "1/1 [==============================] - 0s 2ms/step - loss: 0.6666 - accuracy: 0.9000\n",
            "Epoch 18/20\n",
            "1/1 [==============================] - 0s 1ms/step - loss: 0.6647 - accuracy: 0.9000\n",
            "Epoch 19/20\n",
            "1/1 [==============================] - 0s 1ms/step - loss: 0.6628 - accuracy: 0.9000\n",
            "Epoch 20/20\n",
            "1/1 [==============================] - 0s 939us/step - loss: 0.6609 - accuracy: 0.9000\n",
            "1/1 [==============================] - 0s 1ms/step - loss: 0.6590 - accuracy: 0.9000\n",
            "\n",
            " Accuracy: 0.9000\n"
          ],
          "name": "stdout"
        }
      ]
    },
    {
      "cell_type": "code",
      "metadata": {
        "id": "39y4SbMOQvFQ",
        "colab_type": "code",
        "colab": {}
      },
      "source": [
        ""
      ],
      "execution_count": 0,
      "outputs": []
    }
  ]
}