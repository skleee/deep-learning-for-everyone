{
  "nbformat": 4,
  "nbformat_minor": 0,
  "metadata": {
    "colab": {
      "name": "00_numpy_basics.ipynb",
      "provenance": [],
      "collapsed_sections": []
    },
    "kernelspec": {
      "name": "python3",
      "display_name": "Python 3"
    }
  },
  "cells": [
    {
      "cell_type": "markdown",
      "metadata": {
        "id": "lUgCe1jJffCm",
        "colab_type": "text"
      },
      "source": [
        "## Numpy Array basics\n",
        "[[Source] w3resource NumPy exercises](https://www.w3resource.com/python-exercises/numpy/index-array.php)\n"
      ]
    },
    {
      "cell_type": "code",
      "metadata": {
        "id": "D76Y0u4mftda",
        "colab_type": "code",
        "colab": {}
      },
      "source": [
        "import numpy as np"
      ],
      "execution_count": 0,
      "outputs": []
    },
    {
      "cell_type": "markdown",
      "metadata": {
        "id": "zEQb6j7Sgvxy",
        "colab_type": "text"
      },
      "source": [
        "### #10\n",
        "Write a NumPy program to create a 8x8 matrix and fill it with a checkerboard pattern."
      ]
    },
    {
      "cell_type": "code",
      "metadata": {
        "id": "dvO5KPpUgRrQ",
        "colab_type": "code",
        "colab": {
          "base_uri": "https://localhost:8080/",
          "height": 167
        },
        "outputId": "074d35cb-14e5-404a-f087-83fdee1c32bb"
      },
      "source": [
        "# A[start:end:step]\n",
        "x = np.zeros((8,8), dtype=int)\n",
        "x[1::2, ::2] = 1\n",
        "x[::2, 1::2] = 1\n",
        "x"
      ],
      "execution_count": 2,
      "outputs": [
        {
          "output_type": "execute_result",
          "data": {
            "text/plain": [
              "array([[0, 1, 0, 1, 0, 1, 0, 1],\n",
              "       [1, 0, 1, 0, 1, 0, 1, 0],\n",
              "       [0, 1, 0, 1, 0, 1, 0, 1],\n",
              "       [1, 0, 1, 0, 1, 0, 1, 0],\n",
              "       [0, 1, 0, 1, 0, 1, 0, 1],\n",
              "       [1, 0, 1, 0, 1, 0, 1, 0],\n",
              "       [0, 1, 0, 1, 0, 1, 0, 1],\n",
              "       [1, 0, 1, 0, 1, 0, 1, 0]])"
            ]
          },
          "metadata": {
            "tags": []
          },
          "execution_count": 2
        }
      ]
    },
    {
      "cell_type": "code",
      "metadata": {
        "id": "aUh602NCiFIz",
        "colab_type": "code",
        "colab": {
          "base_uri": "https://localhost:8080/",
          "height": 111
        },
        "outputId": "5952bc42-5d76-4b15-8d6d-4ddfb85a59ba"
      },
      "source": [
        "y = np.arange(1,41).reshape(5,8)\n",
        "y"
      ],
      "execution_count": 3,
      "outputs": [
        {
          "output_type": "execute_result",
          "data": {
            "text/plain": [
              "array([[ 1,  2,  3,  4,  5,  6,  7,  8],\n",
              "       [ 9, 10, 11, 12, 13, 14, 15, 16],\n",
              "       [17, 18, 19, 20, 21, 22, 23, 24],\n",
              "       [25, 26, 27, 28, 29, 30, 31, 32],\n",
              "       [33, 34, 35, 36, 37, 38, 39, 40]])"
            ]
          },
          "metadata": {
            "tags": []
          },
          "execution_count": 3
        }
      ]
    },
    {
      "cell_type": "code",
      "metadata": {
        "id": "TmFbkutKgcGG",
        "colab_type": "code",
        "colab": {
          "base_uri": "https://localhost:8080/",
          "height": 55
        },
        "outputId": "e62f5236-37c2-41bc-8d75-08e2d350a74b"
      },
      "source": [
        "y[1:4:2] # y[1]부터 y[4]전까지 step 2"
      ],
      "execution_count": 4,
      "outputs": [
        {
          "output_type": "execute_result",
          "data": {
            "text/plain": [
              "array([[ 9, 10, 11, 12, 13, 14, 15, 16],\n",
              "       [25, 26, 27, 28, 29, 30, 31, 32]])"
            ]
          },
          "metadata": {
            "tags": []
          },
          "execution_count": 4
        }
      ]
    },
    {
      "cell_type": "code",
      "metadata": {
        "id": "5js9Lk7Eia0-",
        "colab_type": "code",
        "colab": {
          "base_uri": "https://localhost:8080/",
          "height": 73
        },
        "outputId": "c033438d-eadb-4885-d021-b63507916c94"
      },
      "source": [
        "y[::2] # y[0]부터 step 2"
      ],
      "execution_count": 5,
      "outputs": [
        {
          "output_type": "execute_result",
          "data": {
            "text/plain": [
              "array([[ 1,  2,  3,  4,  5,  6,  7,  8],\n",
              "       [17, 18, 19, 20, 21, 22, 23, 24],\n",
              "       [33, 34, 35, 36, 37, 38, 39, 40]])"
            ]
          },
          "metadata": {
            "tags": []
          },
          "execution_count": 5
        }
      ]
    },
    {
      "cell_type": "code",
      "metadata": {
        "id": "3dmpTflhizA3",
        "colab_type": "code",
        "colab": {
          "base_uri": "https://localhost:8080/",
          "height": 111
        },
        "outputId": "3df8734c-40e8-455a-cac0-f13e6338589f"
      },
      "source": [
        "y[:, ::2] # all rows, columns with step 2"
      ],
      "execution_count": 6,
      "outputs": [
        {
          "output_type": "execute_result",
          "data": {
            "text/plain": [
              "array([[ 1,  3,  5,  7],\n",
              "       [ 9, 11, 13, 15],\n",
              "       [17, 19, 21, 23],\n",
              "       [25, 27, 29, 31],\n",
              "       [33, 35, 37, 39]])"
            ]
          },
          "metadata": {
            "tags": []
          },
          "execution_count": 6
        }
      ]
    },
    {
      "cell_type": "code",
      "metadata": {
        "id": "79SZeityjej9",
        "colab_type": "code",
        "colab": {
          "base_uri": "https://localhost:8080/",
          "height": 73
        },
        "outputId": "628f08d7-9392-4f27-ab1e-33adaa494da5"
      },
      "source": [
        "y[::2, :] # rows: step 2, column: all"
      ],
      "execution_count": 7,
      "outputs": [
        {
          "output_type": "execute_result",
          "data": {
            "text/plain": [
              "array([[ 1,  2,  3,  4,  5,  6,  7,  8],\n",
              "       [17, 18, 19, 20, 21, 22, 23, 24],\n",
              "       [33, 34, 35, 36, 37, 38, 39, 40]])"
            ]
          },
          "metadata": {
            "tags": []
          },
          "execution_count": 7
        }
      ]
    },
    {
      "cell_type": "code",
      "metadata": {
        "id": "pqIEwuh4jxOt",
        "colab_type": "code",
        "colab": {
          "base_uri": "https://localhost:8080/",
          "height": 73
        },
        "outputId": "e3e7f57b-0c51-4b42-d58f-5f24519fa3f0"
      },
      "source": [
        "y[::2, :2] # rows: step 2, column: before the index 2"
      ],
      "execution_count": 8,
      "outputs": [
        {
          "output_type": "execute_result",
          "data": {
            "text/plain": [
              "array([[ 1,  2],\n",
              "       [17, 18],\n",
              "       [33, 34]])"
            ]
          },
          "metadata": {
            "tags": []
          },
          "execution_count": 8
        }
      ]
    },
    {
      "cell_type": "code",
      "metadata": {
        "id": "q2qj6oSUkAa-",
        "colab_type": "code",
        "colab": {
          "base_uri": "https://localhost:8080/",
          "height": 73
        },
        "outputId": "11f398e8-d15e-4cd1-b45b-5e747f2e4f8b"
      },
      "source": [
        "y[::2, ::2] # rows: step 2, column: step 2"
      ],
      "execution_count": 9,
      "outputs": [
        {
          "output_type": "execute_result",
          "data": {
            "text/plain": [
              "array([[ 1,  3,  5,  7],\n",
              "       [17, 19, 21, 23],\n",
              "       [33, 35, 37, 39]])"
            ]
          },
          "metadata": {
            "tags": []
          },
          "execution_count": 9
        }
      ]
    },
    {
      "cell_type": "markdown",
      "metadata": {
        "id": "JXFqqkN3kNtl",
        "colab_type": "text"
      },
      "source": [
        "### #20\n",
        "Write a NumPy program to find the set difference of two arrays. The set difference will return the sorted, unique values in array1 that are not in array2.\n",
        "\n",
        "Example\n",
        "\n",
        "Array1: [0, 10, 20, 40, 60, 80], Array2: [10, 30, 40, 50, 70, 90]\n",
        "\n",
        "Set difference between two arrays:\n",
        "[0, 20, 60, 80]"
      ]
    },
    {
      "cell_type": "code",
      "metadata": {
        "id": "aUI0ped5ks3o",
        "colab_type": "code",
        "colab": {
          "base_uri": "https://localhost:8080/",
          "height": 36
        },
        "outputId": "9705cb59-eef3-4395-84c1-ff8d8f175097"
      },
      "source": [
        "a = np.array([0, 10, 20, 40, 60, 80])\n",
        "b = np.array([10, 30, 40, 50, 70, 90])\n",
        "\n",
        "np.setdiff1d(a, b)"
      ],
      "execution_count": 10,
      "outputs": [
        {
          "output_type": "execute_result",
          "data": {
            "text/plain": [
              "array([ 0, 20, 60, 80])"
            ]
          },
          "metadata": {
            "tags": []
          },
          "execution_count": 10
        }
      ]
    },
    {
      "cell_type": "code",
      "metadata": {
        "id": "Wy1eO7jElFEL",
        "colab_type": "code",
        "colab": {
          "base_uri": "https://localhost:8080/",
          "height": 36
        },
        "outputId": "17d31f38-9972-4b4e-97b8-c491ff48140a"
      },
      "source": [
        "np.intersect1d(a,b)"
      ],
      "execution_count": 11,
      "outputs": [
        {
          "output_type": "execute_result",
          "data": {
            "text/plain": [
              "array([10, 40])"
            ]
          },
          "metadata": {
            "tags": []
          },
          "execution_count": 11
        }
      ]
    },
    {
      "cell_type": "code",
      "metadata": {
        "id": "q2_JnLtvotf_",
        "colab_type": "code",
        "colab": {
          "base_uri": "https://localhost:8080/",
          "height": 36
        },
        "outputId": "726521b7-4533-4c94-a04d-95b6df5dcba7"
      },
      "source": [
        "np.union1d(a, b)"
      ],
      "execution_count": 12,
      "outputs": [
        {
          "output_type": "execute_result",
          "data": {
            "text/plain": [
              "array([ 0, 10, 20, 30, 40, 50, 60, 70, 80, 90])"
            ]
          },
          "metadata": {
            "tags": []
          },
          "execution_count": 12
        }
      ]
    },
    {
      "cell_type": "markdown",
      "metadata": {
        "id": "B6IM3AWsou3Z",
        "colab_type": "text"
      },
      "source": [
        "### #30\n",
        "Write a NumPy program to sort pairs of first name and last name return their indices. (first by last name, then by first name).\n",
        "\n",
        "first_names = (‘Betsey’, ‘Shelley’, ‘Lanell’, ‘Genesis’, ‘Margery’)\n",
        "\n",
        "last_names = (‘Battle’, ‘Brien’, ‘Plotner’, ‘Stahl’, ‘Woolum’)\n",
        "\n",
        "\n",
        "Expected Output:\n",
        "[1 3 2 4 0]"
      ]
    },
    {
      "cell_type": "code",
      "metadata": {
        "id": "Ii7SYemQo6V3",
        "colab_type": "code",
        "colab": {
          "base_uri": "https://localhost:8080/",
          "height": 36
        },
        "outputId": "4f727a2b-541f-484f-bc21-758e228e3c84"
      },
      "source": [
        "first_names =    ('Margery', 'Betsey', 'Shelley', 'Lanell', 'Genesis')\n",
        "last_names = ('Woolum', 'Battle', 'Plotner', 'Brien', 'Stahl')\n",
        "x = np.lexsort((first_names, last_names))\n",
        "x\n",
        "# lexsort(first_names, last_names): sort by last_name first, then sort by first_name\n",
        "# index is returned\n",
        "# https://docs.scipy.org/doc/numpy/reference/generated/numpy.lexsort.html "
      ],
      "execution_count": 13,
      "outputs": [
        {
          "output_type": "execute_result",
          "data": {
            "text/plain": [
              "array([1, 3, 2, 4, 0])"
            ]
          },
          "metadata": {
            "tags": []
          },
          "execution_count": 13
        }
      ]
    },
    {
      "cell_type": "code",
      "metadata": {
        "id": "_5FgZpRxsc9c",
        "colab_type": "code",
        "colab": {
          "base_uri": "https://localhost:8080/",
          "height": 36
        },
        "outputId": "d991774f-1140-4a7f-8165-4ced8e26457f"
      },
      "source": [
        "np.argsort(first_names) # arg가 붙으면 결과가 index"
      ],
      "execution_count": 14,
      "outputs": [
        {
          "output_type": "execute_result",
          "data": {
            "text/plain": [
              "array([1, 4, 3, 0, 2])"
            ]
          },
          "metadata": {
            "tags": []
          },
          "execution_count": 14
        }
      ]
    },
    {
      "cell_type": "code",
      "metadata": {
        "id": "ukVO5CIQth_9",
        "colab_type": "code",
        "colab": {
          "base_uri": "https://localhost:8080/",
          "height": 36
        },
        "outputId": "c6177653-afaf-40d4-b453-d038541ff7ee"
      },
      "source": [
        "np.sort(first_names)"
      ],
      "execution_count": 15,
      "outputs": [
        {
          "output_type": "execute_result",
          "data": {
            "text/plain": [
              "array(['Betsey', 'Genesis', 'Lanell', 'Margery', 'Shelley'], dtype='<U7')"
            ]
          },
          "metadata": {
            "tags": []
          },
          "execution_count": 15
        }
      ]
    },
    {
      "cell_type": "markdown",
      "metadata": {
        "id": "W1mPIi65sdZ_",
        "colab_type": "text"
      },
      "source": [
        "### #40\n",
        "\n",
        "Write a NumPy program to create a new array of 3*5, filled with 2. \n",
        "\n",
        "Expected Output:\n",
        "[[2 2 2 2 2]\n",
        "[2 2 2 2 2]\n",
        "[2 2 2 2 2]]\n",
        "[[2 2 2 2 2]\n",
        "[2 2 2 2 2]\n",
        "[2 2 2 2 2]]"
      ]
    },
    {
      "cell_type": "code",
      "metadata": {
        "id": "V8NoHpJwsh08",
        "colab_type": "code",
        "colab": {
          "base_uri": "https://localhost:8080/",
          "height": 73
        },
        "outputId": "ebf16c2e-b2e0-48d8-93d3-513e3acd0ac8"
      },
      "source": [
        "a = np.ones((3,5), dtype='int')\n",
        "a += a\n",
        "a"
      ],
      "execution_count": 16,
      "outputs": [
        {
          "output_type": "execute_result",
          "data": {
            "text/plain": [
              "array([[2, 2, 2, 2, 2],\n",
              "       [2, 2, 2, 2, 2],\n",
              "       [2, 2, 2, 2, 2]])"
            ]
          },
          "metadata": {
            "tags": []
          },
          "execution_count": 16
        }
      ]
    },
    {
      "cell_type": "markdown",
      "metadata": {
        "id": "3H5alg_-tyor",
        "colab_type": "text"
      },
      "source": [
        "### #50\n",
        "Write a NumPy program to find the 4th element of a specified array. \n",
        "\n",
        "\n",
        "Example:\n",
        "\n",
        "[ [ 2, 4, 6],\n",
        "[ 6, 8, 10]]\n",
        "\n",
        "4th element of the array: 6\n",
        "\n"
      ]
    },
    {
      "cell_type": "code",
      "metadata": {
        "id": "L73wxItguQcw",
        "colab_type": "code",
        "colab": {
          "base_uri": "https://localhost:8080/",
          "height": 36
        },
        "outputId": "3190d372-e18d-413c-bc53-eb569fa4c8b5"
      },
      "source": [
        "np.array([[2,4,6], [6, 8, 10]], dtype='int').reshape(6,)[3]"
      ],
      "execution_count": 17,
      "outputs": [
        {
          "output_type": "execute_result",
          "data": {
            "text/plain": [
              "6"
            ]
          },
          "metadata": {
            "tags": []
          },
          "execution_count": 17
        }
      ]
    },
    {
      "cell_type": "markdown",
      "metadata": {
        "id": "cetOlvukui5x",
        "colab_type": "text"
      },
      "source": [
        "### #60\n",
        "Write a NumPy program to convert (in sequence depth wise (along third axis)) two 1-D arrays into a 2-D array. \n",
        " \n",
        "Sample array: (10,20,30), (40,50,60)\n",
        "\n",
        "Expected Output:\n",
        "[[[10 40]]\n",
        "[[20 50]]\n",
        "[[30 60]]]"
      ]
    },
    {
      "cell_type": "markdown",
      "metadata": {
        "id": "CbIiuEHovK83",
        "colab_type": "text"
      },
      "source": [
        "![Example](https://www.w3resource.com/w3r_images/python-numpy-image-exercise-60.png)"
      ]
    },
    {
      "cell_type": "code",
      "metadata": {
        "id": "9A4aL3E6u93W",
        "colab_type": "code",
        "colab": {
          "base_uri": "https://localhost:8080/",
          "height": 111
        },
        "outputId": "3ee90209-00eb-45f0-a008-00d75580af3d"
      },
      "source": [
        "a = np.array([[10], [20], [30]])\n",
        "b = np.array([[40], [50], [60]])\n",
        "c = np.dstack((a,b))\n",
        "c\n",
        "\n",
        "# dstack:\n",
        "# 제3의 축 즉, 행이나 열이 아닌 깊이(depth) 방향으로 배열을 합친다. \n",
        "# 가장 안쪽의 원소의 차원이 증가한다. \n",
        "# 즉 가장 내부의 숫자 원소가 배열이 된다. \n",
        "# shape 정보로 보자면 가장 끝에 값이 2인 차원이 추가되는 것이다.\n"
      ],
      "execution_count": 18,
      "outputs": [
        {
          "output_type": "execute_result",
          "data": {
            "text/plain": [
              "array([[[10, 40]],\n",
              "\n",
              "       [[20, 50]],\n",
              "\n",
              "       [[30, 60]]])"
            ]
          },
          "metadata": {
            "tags": []
          },
          "execution_count": 18
        }
      ]
    },
    {
      "cell_type": "code",
      "metadata": {
        "id": "Z_p0B2AawDzz",
        "colab_type": "code",
        "colab": {
          "base_uri": "https://localhost:8080/",
          "height": 36
        },
        "outputId": "298414b4-fd11-419e-d068-ecef802b040f"
      },
      "source": [
        "c.shape"
      ],
      "execution_count": 19,
      "outputs": [
        {
          "output_type": "execute_result",
          "data": {
            "text/plain": [
              "(3, 1, 2)"
            ]
          },
          "metadata": {
            "tags": []
          },
          "execution_count": 19
        }
      ]
    },
    {
      "cell_type": "code",
      "metadata": {
        "id": "rjyMGzVIvaFw",
        "colab_type": "code",
        "colab": {
          "base_uri": "https://localhost:8080/",
          "height": 73
        },
        "outputId": "f87ec478-a6a7-4bac-a3a7-83604af92e00"
      },
      "source": [
        "np.hstack((a,b))"
      ],
      "execution_count": 20,
      "outputs": [
        {
          "output_type": "execute_result",
          "data": {
            "text/plain": [
              "array([[10, 40],\n",
              "       [20, 50],\n",
              "       [30, 60]])"
            ]
          },
          "metadata": {
            "tags": []
          },
          "execution_count": 20
        }
      ]
    },
    {
      "cell_type": "code",
      "metadata": {
        "id": "gnQ9VS2ywYcc",
        "colab_type": "code",
        "colab": {
          "base_uri": "https://localhost:8080/",
          "height": 36
        },
        "outputId": "40727787-9fa0-4606-9561-a75574450d22"
      },
      "source": [
        "np.hstack((a,b)).shape"
      ],
      "execution_count": 21,
      "outputs": [
        {
          "output_type": "execute_result",
          "data": {
            "text/plain": [
              "(3, 2)"
            ]
          },
          "metadata": {
            "tags": []
          },
          "execution_count": 21
        }
      ]
    },
    {
      "cell_type": "code",
      "metadata": {
        "id": "XxMVUDy3vrE0",
        "colab_type": "code",
        "colab": {
          "base_uri": "https://localhost:8080/",
          "height": 129
        },
        "outputId": "7f0135b1-ed88-4887-e628-2537626cdf17"
      },
      "source": [
        "np.vstack((a,b))"
      ],
      "execution_count": 22,
      "outputs": [
        {
          "output_type": "execute_result",
          "data": {
            "text/plain": [
              "array([[10],\n",
              "       [20],\n",
              "       [30],\n",
              "       [40],\n",
              "       [50],\n",
              "       [60]])"
            ]
          },
          "metadata": {
            "tags": []
          },
          "execution_count": 22
        }
      ]
    },
    {
      "cell_type": "markdown",
      "metadata": {
        "id": "RnjB3yG7vu3j",
        "colab_type": "text"
      },
      "source": [
        "### #70\n",
        "Write a NumPy program to create display every element of a NumPy array.\n",
        "\n",
        "Expected Output:\n",
        "0 1 2 3 4 5 6 7 8 9 10 11"
      ]
    },
    {
      "cell_type": "code",
      "metadata": {
        "id": "uhAYR6roweSi",
        "colab_type": "code",
        "colab": {
          "base_uri": "https://localhost:8080/",
          "height": 36
        },
        "outputId": "a308f2e8-22ea-46a4-fe6a-f9c2fc317750"
      },
      "source": [
        "np.arange(12)"
      ],
      "execution_count": 23,
      "outputs": [
        {
          "output_type": "execute_result",
          "data": {
            "text/plain": [
              "array([ 0,  1,  2,  3,  4,  5,  6,  7,  8,  9, 10, 11])"
            ]
          },
          "metadata": {
            "tags": []
          },
          "execution_count": 23
        }
      ]
    },
    {
      "cell_type": "markdown",
      "metadata": {
        "id": "E4tL4dqTwgdG",
        "colab_type": "text"
      },
      "source": [
        "### #80\n",
        "Write a NumPy program to convert a NumPy array into Python list structure. \n",
        "\n",
        "Expected Output:\n",
        "\n",
        "Original array elements:\n",
        "[[0 1]\n",
        "[2 3]\n",
        "[4 5]]\n",
        "\n",
        "Array to list:\n",
        "[[0, 1], [2, 3], [4, 5]]"
      ]
    },
    {
      "cell_type": "code",
      "metadata": {
        "id": "8z-l95cRwo7L",
        "colab_type": "code",
        "colab": {
          "base_uri": "https://localhost:8080/",
          "height": 73
        },
        "outputId": "a536edd9-559a-420d-9dd7-4f7f1d15a1db"
      },
      "source": [
        "a = np.arange(6).reshape(3,2)\n",
        "a"
      ],
      "execution_count": 24,
      "outputs": [
        {
          "output_type": "execute_result",
          "data": {
            "text/plain": [
              "array([[0, 1],\n",
              "       [2, 3],\n",
              "       [4, 5]])"
            ]
          },
          "metadata": {
            "tags": []
          },
          "execution_count": 24
        }
      ]
    },
    {
      "cell_type": "code",
      "metadata": {
        "id": "MnEAGTM5w0z9",
        "colab_type": "code",
        "colab": {
          "base_uri": "https://localhost:8080/",
          "height": 36
        },
        "outputId": "26e29a43-184d-4547-dcca-0c4bf2ec7262"
      },
      "source": [
        "b = a.tolist()\n",
        "b"
      ],
      "execution_count": 25,
      "outputs": [
        {
          "output_type": "execute_result",
          "data": {
            "text/plain": [
              "[[0, 1], [2, 3], [4, 5]]"
            ]
          },
          "metadata": {
            "tags": []
          },
          "execution_count": 25
        }
      ]
    },
    {
      "cell_type": "markdown",
      "metadata": {
        "id": "IJEWDj3Cw9UT",
        "colab_type": "text"
      },
      "source": [
        "### #90\n",
        "Write a NumPy program to remove the negative values in a NumPy array with 0. \n",
        "\n",
        "\n",
        "Expected Output:\n",
        "\n",
        "Original array:\n",
        "[-1 -4 0 2 3 4 5 -6]\n",
        "\n",
        "Replace the negative values of the said array with 0:\n",
        "[0 0 0 2 3 4 5 0]"
      ]
    },
    {
      "cell_type": "code",
      "metadata": {
        "id": "EtP6XWbwypOA",
        "colab_type": "code",
        "colab": {
          "base_uri": "https://localhost:8080/",
          "height": 36
        },
        "outputId": "29f0b02e-f04f-4787-f7aa-7c7ec2bb2a0c"
      },
      "source": [
        "a = np.array([-1, -4, 0, 3, 4, 1,-10])\n",
        "np.where(a<0, 0, a)"
      ],
      "execution_count": 26,
      "outputs": [
        {
          "output_type": "execute_result",
          "data": {
            "text/plain": [
              "array([0, 0, 0, 3, 4, 1, 0])"
            ]
          },
          "metadata": {
            "tags": []
          },
          "execution_count": 26
        }
      ]
    },
    {
      "cell_type": "code",
      "metadata": {
        "id": "dj1QPRWbxI5O",
        "colab_type": "code",
        "colab": {
          "base_uri": "https://localhost:8080/",
          "height": 36
        },
        "outputId": "499469d9-70bc-4037-fac1-ee4eda686242"
      },
      "source": [
        "a = np.array([-1, -4, 0, 3, 4, 1,-10])\n",
        "a[a<0] = 0\n",
        "a"
      ],
      "execution_count": 27,
      "outputs": [
        {
          "output_type": "execute_result",
          "data": {
            "text/plain": [
              "array([0, 0, 0, 3, 4, 1, 0])"
            ]
          },
          "metadata": {
            "tags": []
          },
          "execution_count": 27
        }
      ]
    },
    {
      "cell_type": "markdown",
      "metadata": {
        "id": "JtNV5cOHxgQn",
        "colab_type": "text"
      },
      "source": [
        "### #100\n",
        " Write a NumPy program to take values from a source array and put them at specified indices of another array. \n",
        " \n",
        "\n",
        "Expected Output:\n",
        "[ 10. 10. 20. 30. 30.]\n",
        "\n",
        "Put 0 and 40 in first and fifth position of the above array\n",
        "\n",
        "Array x after put two values: [ 0. 10. 20. 30. 40.]"
      ]
    },
    {
      "cell_type": "code",
      "metadata": {
        "id": "M4PrXow0yCu0",
        "colab_type": "code",
        "colab": {
          "base_uri": "https://localhost:8080/",
          "height": 36
        },
        "outputId": "fbd8a87c-b7dd-4c99-fb7f-a0bceadac70b"
      },
      "source": [
        "a = np.array([10, 10, 20, 30, 30], dtype='float')\n",
        "a[0] = 0\n",
        "a[4] = 40\n",
        "a"
      ],
      "execution_count": 28,
      "outputs": [
        {
          "output_type": "execute_result",
          "data": {
            "text/plain": [
              "array([ 0., 10., 20., 30., 40.])"
            ]
          },
          "metadata": {
            "tags": []
          },
          "execution_count": 28
        }
      ]
    },
    {
      "cell_type": "code",
      "metadata": {
        "id": "ikM562C0yRkg",
        "colab_type": "code",
        "colab": {
          "base_uri": "https://localhost:8080/",
          "height": 36
        },
        "outputId": "a9fb0e17-fbac-4d9e-f0df-251b581c4415"
      },
      "source": [
        "x = np.array([10, 10, 20, 30, 30], float)\n",
        "y = np.array([0, 40, 60], float) \n",
        "x.put([0, 4], y)\n",
        "x"
      ],
      "execution_count": 29,
      "outputs": [
        {
          "output_type": "execute_result",
          "data": {
            "text/plain": [
              "array([ 0., 10., 20., 30., 40.])"
            ]
          },
          "metadata": {
            "tags": []
          },
          "execution_count": 29
        }
      ]
    },
    {
      "cell_type": "code",
      "metadata": {
        "id": "fH_KYEmIy0NS",
        "colab_type": "code",
        "colab": {}
      },
      "source": [
        ""
      ],
      "execution_count": 0,
      "outputs": []
    }
  ]
}